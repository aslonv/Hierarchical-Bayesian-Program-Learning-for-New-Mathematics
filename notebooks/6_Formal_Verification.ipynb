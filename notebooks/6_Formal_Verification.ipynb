{
 "cells": [
  {
   "cell_type": "markdown",
   "metadata": {},
   "source": [
    "# 5. Bayesian Inference\n",
    "\n",
    "This notebook demonstrates the Bayesian inference process in our mathematical invention system. We'll show how to perform inference on our probabilistic model and interpret the results."
   ]
  },
  {
   "cell_type": "markdown",
   "metadata": {},
   "source": [
    "## 5.1 Importing Required Modules"
   ]
  },
  {
   "cell_type": "code",
   "execution_count": null,
   "metadata": {
    "vscode": {
     "languageId": "plaintext"
    }
   },
   "outputs": [],
   "source": [
    "import sys\n",
    "import os\n",
    "\n",
    "# Add the src directory to the Python path\n",
    "sys.path.append(os.path.abspath(os.path.join(os.getcwd(), '..', 'src')))\n",
    "\n",
    "from probabilistic_model import mathematical_concept_model\n",
    "from bayesian_inference import bayesian_inference, infer_concept_importance, compute_posterior_statistics\n",
    "import torch\n",
    "import matplotlib.pyplot as plt\n",
    "import seaborn as sns\n",
    "\n",
    "print(\"Imports complete!\")"
   ]
  },
  {
   "cell_type": "markdown",
   "metadata": {},
   "source": [
    "## 5.2 Generating Data and Performing Bayesian Inference"
   ]
  },
  {
   "cell_type": "code",
   "execution_count": null,
   "metadata": {
    "vscode": {
     "languageId": "plaintext"
    }
   },
   "outputs": [],
   "source": [
    "# Generate some data\n",
    "input_data = torch.randn(100)\n",
    "concepts, observations = mathematical_concept_model(input_data)\n",
    "\n",
    "# Perform Bayesian inference\n",
    "guide = bayesian_inference(mathematical_concept_model, observations)\n",
    "\n",
    "print(\"Bayesian inference completed.\")"
   ]
  },
  {
   "cell_type": "markdown",
   "metadata": {},
   "source": [
    "## 5.3 Interpreting Inference Results"
   ]
  },
  {
   "cell_type": "code",
   "execution_count": null,
   "metadata": {
    "vscode": {
     "languageId": "plaintext"
    }
   },
   "outputs": [],
   "source": [
    "# Infer concept importance\n",
    "importance_scores = infer_concept_importance(mathematical_concept_model, guide, observations)\n",
    "\n",
    "print(\"Concept Importance Scores:\")\n",
    "for concept, score in importance_scores.items():\n",
    "    print(f\"{concept}: {score:.4f}\")\n",
    "\n",
    "# Compute posterior statistics\n",
    "posterior_stats = compute_posterior_statistics(guide)\n",
    "\n",
    "print(\"\\nPosterior Statistics:\")\n",
    "for param, stats in posterior_stats.items():\n",
    "    print(f\"{param}:\")\n",
    "    print(f\"  Mean: {stats['mean']:.4f}\")\n",
    "    print(f\"  Standard Deviation: {stats['std']:.4f}\")"
   ]
  },
  {
   "cell_type": "markdown",
   "metadata": {},
   "source": [
    "## 5.4 Visualizing Posterior Distributions"
   ]
  },
  {
   "cell_type": "code",
   "execution_count": null,
   "metadata": {
    "vscode": {
     "languageId": "plaintext"
    }
   },
   "outputs": [],
   "source": [
    "def plot_posterior_distributions(posterior_stats):\n",
    "    num_params = len(posterior_stats)\n",
    "    fig, axes = plt.subplots(num_params, 1, figsize=(10, 4*num_params))\n",
    "    \n",
    "    for i, (param, stats) in enumerate(posterior_stats.items()):\n",
    "        ax = axes[i] if num_params > 1 else axes\n",
    "        \n",
    "        # Generate points for the distribution\n",
    "        x = np.linspace(stats['mean'] - 3*stats['std'], stats['mean'] + 3*stats['std'], 100)\n",
    "        y = stats['distribution'].pdf(x)\n",
    "        \n",
    "        sns.lineplot(x=x, y=y, ax=ax)\n",
    "        ax.axvline(stats['mean'], color='r', linestyle='--', label='Mean')\n",
    "        ax.fill_between(x, y, where=(x >= stats['mean'] - stats['std']) & (x <= stats['mean'] + stats['std']),\n",
    "                        alpha=0.2, label='1 Std Dev')\n",
    "        \n",
    "        ax.set_title(f'Posterior Distribution of {param}')\n",
    "        ax.set_xlabel('Value')\n",
    "        ax.set_ylabel('Density')\n",
    "        ax.legend()\n",
    "    \n",
    "    plt.tight_layout()\n",
    "    plt.show()\n",
    "\n",
    "plot_posterior_distributions(posterior_stats)"
   ]
  },
  {
   "cell_type": "markdown",
   "metadata": {},
   "source": [
    "## 5.5 Analyzing Concept Correlations"
   ]
  },
  {
   "cell_type": "code",
   "execution_count": null,
   "metadata": {
    "vscode": {
     "languageId": "plaintext"
    }
   },
   "outputs": [],
   "source": [
    "def plot_concept_correlations(importance_scores):\n",
    "    corr_matrix = np.corrcoef(list(importance_scores.values()))\n",
    "    \n",
    "    plt.figure(figsize=(10, 8))\n",
    "    sns.heatmap(corr_matrix, annot=True, cmap='coolwarm', vmin=-1, vmax=1,\n",
    "                xticklabels=importance_scores.keys(),\n",
    "                yticklabels=importance_scores.keys())\n",
    "    plt.title('Correlation of Concept Importance Scores')\n",
    "    plt.tight_layout()\n",
    "    plt.show()\n",
    "\n",
    "plot_concept_correlations(importance_scores)"
   ]
  },
  {
   "cell_type": "markdown",
   "metadata": {},
   "source": [
    "## 5.6 Interpreting the Results"
   ]
  },
  {
   "cell_type": "code",
   "execution_count": null,
   "metadata": {
    "vscode": {
     "languageId": "plaintext"
    }
   },
   "outputs": [],
   "source": [
    "def interpret_results(importance_scores, posterior_stats):\n",
    "    print(\"Key Insights:\")\n",
    "    \n",
    "    # Most important concepts\n",
    "    top_concepts = sorted(importance_scores.items(), key=lambda x: x[1], reverse=True)[:3]\n",
    "    print(\"\\nTop 3 Most Important Concepts:\")\n",
    "    for concept, score in top_concepts:\n",
    "        print(f\"  {concept}: {score:.4f}\")\n",
    "    \n",
    "    # Most uncertain parameters\n",
    "    uncertain_params = sorted(posterior_stats.items(), key=lambda x: x[1]['std'], reverse=True)[:3]\n",
    "    print(\"\\nTop 3 Most Uncertain Parameters:\")\n",
    "    for param, stats in uncertain_params:\n",
    "        print(f\"  {param}: Std Dev = {stats['std']:.4f}\")\n",
    "    \n",
    "    print(\"\\nInterpretation:\")\n",
    "    print(\"1. The top important concepts are likely the most influential in explaining the observed data.\")\n",
    "    print(\"2. The parameters with high uncertainty may require more data or refinement in the model.\")\n",
    "    print(\"3. Consider focusing future investigations on the top concepts and reducing uncertainty in key parameters.\")\n",
    "\n",
    "interpret_results(importance_scores, posterior_stats)"
   ]
  },
  {
   "cell_type": "markdown",
   "metadata": {},
   "source": [
    "This notebook demonstrates the Bayesian inference process in our mathematical invention system. We've shown how to perform inference on our probabilistic model, visualize the posterior distributions, and interpret the results.\n",
    "\n",
    "The concept importance scores help us identify which mathematical concepts are most relevant to explaining the observed data. The posterior distributions give us insight into the uncertainty of our model parameters. By analyzing these results, we can guide future explorations in our mathematical invention process, focusing on the most promising concepts and areas of uncertainty.\n",
    "\n",
    "This Bayesian approach allows us to quantify our uncertainty and update our beliefs as we gather more data, which is crucial for robust and reliable mathematical discovery."
   ]
  }
 ],
 "metadata": {
  "language_info": {
   "name": "python"
  }
 },
 "nbformat": 4,
 "nbformat_minor": 2
}
