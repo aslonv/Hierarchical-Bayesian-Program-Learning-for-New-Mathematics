{
 "cells": [
  {
   "cell_type": "markdown",
   "metadata": {},
   "source": [
    "# 4. Structure Learning\n",
    "\n",
    "This notebook explores the process of learning the underlying structure of mathematical concepts. We'll demonstrate how to use our system to discover relationships between concepts and visualize the learned hierarchies."
   ]
  },
  {
   "cell_type": "markdown",
   "metadata": {},
   "source": [
    "## 4.1 Importing Required Modules"
   ]
  },
  {
   "cell_type": "code",
   "execution_count": null,
   "metadata": {
    "vscode": {
     "languageId": "plaintext"
    }
   },
   "outputs": [],
   "source": [
    "import sys\n",
    "import os\n",
    "\n",
    "# Add the src directory to the Python path\n",
    "sys.path.append(os.path.abspath(os.path.join(os.getcwd(), '..', 'src')))\n",
    "\n",
    "from probabilistic_model import mathematical_concept_model\n",
    "from structure_learning import learn_concept_structure\n",
    "import torch\n",
    "import matplotlib.pyplot as plt\n",
    "import networkx as nx\n",
    "import numpy as np\n",
    "\n",
    "print(\"Imports complete!\")"
   ]
  },
  {
   "cell_type": "markdown",
   "metadata": {},
   "source": [
    "## 4.2 Generating Concepts and Learning Structure"
   ]
  },
  {
   "cell_type": "code",
   "execution_count": null,
   "metadata": {
    "vscode": {
     "languageId": "plaintext"
    }
   },
   "outputs": [],
   "source": [
    "# Generate concepts\n",
    "input_data = torch.randn(100)\n",
    "concepts, observations = mathematical_concept_model(input_data)\n",
    "\n",
    "# Learn the structure\n",
    "structure = learn_concept_structure(concepts, observations)\n",
    "\n",
    "print(\"Learned Structure:\")\n",
    "print(structure)"
   ]
  },
  {
   "cell_type": "markdown",
   "metadata": {},
   "source": [
    "## 4.3 Visualizing Learned Hierarchies"
   ]
  },
  {
   "cell_type": "code",
   "execution_count": null,
   "metadata": {
    "vscode": {
     "languageId": "plaintext"
    }
   },
   "outputs": [],
   "source": [
    "def visualize_concept_structure(structure):\n",
    "    G = nx.Graph()\n",
    "    \n",
    "    # Add nodes\n",
    "    for cluster, concepts in structure['hierarchy'].items():\n",
    "        for concept in concepts:\n",
    "            G.add_node(concept, cluster=cluster)\n",
    "    \n",
    "    # Add edges based on correlation\n",
    "    for i in range(len(structure['correlation_matrix'])):\n",
    "        for j in range(i+1, len(structure['correlation_matrix'])):\n",
    "            correlation = structure['correlation_matrix'][i, j]\n",
    "            if abs(correlation) > 0.5:  # Only add edges for strong correlations\n",
    "                G.add_edge(i, j, weight=correlation)\n",
    "    \n",
    "    # Set up the plot\n",
    "    plt.figure(figsize=(12, 8))\n",
    "    pos = nx.spring_layout(G)\n",
    "    \n",
    "    # Draw nodes\n",
    "    nx.draw_networkx_nodes(G, pos, node_color=[structure['clusters'][node] for node in G.nodes()], \n",
    "                           cmap=plt.cm.rainbow, node_size=500)\n",
    "    \n",
    "    # Draw edges\n",
    "    edges = nx.draw_networkx_edges(G, pos)\n",
    "    \n",
    "    # Add labels\n",
    "    nx.draw_networkx_labels(G, pos, {node: f\"C{node}\" for node in G.nodes()})\n",
    "    \n",
    "    plt.title(\"Learned Concept Structure\")\n",
    "    plt.axis('off')\n",
    "    plt.tight_layout()\n",
    "    plt.show()\n",
    "\n",
    "visualize_concept_structure(structure)"
   ]
  },
  {
   "cell_type": "markdown",
   "metadata": {},
   "source": [
    "## 4.4 Analyzing Concept Relationships"
   ]
  },
  {
   "cell_type": "code",
   "execution_count": null,
   "metadata": {
    "vscode": {
     "languageId": "plaintext"
    }
   },
   "outputs": [],
   "source": [
    "def analyze_relationships(structure):\n",
    "    print(\"Concept Clusters:\")\n",
    "    for cluster, concepts in structure['hierarchy'].items():\n",
    "        print(f\"Cluster {cluster}: Concepts {concepts}\")\n",
    "    \n",
    "    print(\"\\nStrong Correlations:\")\n",
    "    for i in range(len(structure['correlation_matrix'])):\n",
    "        for j in range(i+1, len(structure['correlation_matrix'])):\n",
    "            correlation = structure['correlation_matrix'][i, j]\n",
    "            if abs(correlation) > 0.7:\n",
    "                print(f\"Concepts {i} and {j}: Correlation = {correlation:.2f}\")\n",
    "\n",
    "analyze_relationships(structure)"
   ]
  },
  {
   "cell_type": "markdown",
   "metadata": {},
   "source": [
    "## 4.5 Exploring Concept Similarity"
   ]
  },
  {
   "cell_type": "code",
   "execution_count": null,
   "metadata": {
    "vscode": {
     "languageId": "plaintext"
    }
   },
   "outputs": [],
   "source": [
    "def plot_concept_similarity(structure):\n",
    "    plt.figure(figsize=(10, 8))\n",
    "    plt.imshow(structure['correlation_matrix'], cmap='coolwarm', vmin=-1, vmax=1)\n",
    "    plt.colorbar()\n",
    "    plt.title(\"Concept Similarity Matrix\")\n",
    "    plt.xlabel(\"Concept Index\")\n",
    "    plt.ylabel(\"Concept Index\")\n",
    "    plt.tight_layout()\n",
    "    plt.show()\n",
    "\n",
    "plot_concept_similarity(structure)"
   ]
  },
  {
   "cell_type": "markdown",
   "metadata": {},
   "source": [
    "This notebook demonstrates how our system learns the underlying structure of mathematical concepts. We've shown how to generate concepts, learn their structure, and visualize the relationships between them. This structural understanding is crucial for identifying patterns and potentially discovering new mathematical relationships.\n",
    "\n",
    "The visualization of concept hierarchies helps us understand how different concepts are related and clustered. The correlation analysis reveals which concepts are strongly related, potentially indicating fundamental mathematical connections. This kind of structure learning can guide further exploration and help focus on the most promising areas for mathematical invention."
   ]
  }
 ],
 "metadata": {
  "language_info": {
   "name": "python"
  }
 },
 "nbformat": 4,
 "nbformat_minor": 2
}
