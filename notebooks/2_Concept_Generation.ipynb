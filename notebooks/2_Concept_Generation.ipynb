{
 "cells": [
  {
   "cell_type": "markdown",
   "metadata": {},
   "source": [
    "# 2. Concept Generation\n",
    "\n",
    "This notebook demonstrates how to use the probabilistic model to generate mathematical concepts and visualize the hierarchy of generated concepts."
   ]
  },
  {
   "cell_type": "markdown",
   "metadata": {},
   "source": [
    "## 2.1 Importing Required Modules"
   ]
  },
  {
   "cell_type": "code",
   "execution_count": null,
   "metadata": {
    "vscode": {
     "languageId": "plaintext"
    }
   },
   "outputs": [],
   "source": [
    "import sys\n",
    "import os\n",
    "\n",
    "# Add the src directory to the Python path\n",
    "sys.path.append(os.path.abspath(os.path.join(os.getcwd(), '..', 'src')))\n",
    "\n",
    "from probabilistic_model import mathematical_concept_model\n",
    "import torch\n",
    "import matplotlib.pyplot as plt\n",
    "import networkx as nx\n",
    "\n",
    "print(\"Imports complete!\")"
   ]
  },
  {
   "cell_type": "markdown",
   "metadata": {},
   "source": [
    "## 2.2 Generating Mathematical Concepts"
   ]
  },
  {
   "cell_type": "code",
   "execution_count": null,
   "metadata": {
    "vscode": {
     "languageId": "plaintext"
    }
   },
   "outputs": [],
   "source": [
    "input_data = torch.randn(100)\n",
    "concepts, observations = mathematical_concept_model(input_data)\n",
    "\n",
    "print(\"Generated Concepts:\")\n",
    "for level, level_concepts in enumerate(concepts):\n",
    "    print(f\"Level {level}:\")\n",
    "    for i, concept in enumerate(level_concepts):\n",
    "        print(f\"  Concept {i}: {concept}\")"
   ]
  },
  {
   "cell_type": "markdown",
   "metadata": {},
   "source": [
    "## 2.3 Visualizing Concept Hierarchy"
   ]
  },
  {
   "cell_type": "code",
   "execution_count": null,
   "metadata": {
    "vscode": {
     "languageId": "plaintext"
    }
   },
   "outputs": [],
   "source": [
    "def visualize_concept_hierarchy(concepts):\n",
    "    G = nx.DiGraph()\n",
    "    \n",
    "    for level, level_concepts in enumerate(concepts):\n",
    "        for i, concept in enumerate(level_concepts):\n",
    "            node_id = f\"L{level}C{i}\"\n",
    "            G.add_node(node_id, label=f\"L{level}C{i}\\n{concept}\")\n",
    "            \n",
    "            if level > 0:\n",
    "                # Connect to all concepts in the previous level\n",
    "                for j in range(len(concepts[level-1])):\n",
    "                    G.add_edge(f\"L{level-1}C{j}\", node_id)\n",
    "    \n",
    "    pos = nx.spring_layout(G)\n",
    "    plt.figure(figsize=(12, 8))\n",
    "    nx.draw(G, pos, with_labels=True, node_color='lightblue', \n",
    "            node_size=3000, font_size=8, arrows=True)\n",
    "    \n",
    "    labels = nx.get_node_attributes(G, 'label')\n",
    "    nx.draw_networkx_labels(G, pos, labels, font_size=6)\n",
    "    \n",
    "    plt.title(\"Concept Hierarchy\")\n",
    "    plt.axis('off')\n",
    "    plt.tight_layout()\n",
    "    plt.show()\n",
    "\n",
    "visualize_concept_hierarchy(concepts)"
   ]
  },
  {
   "cell_type": "markdown",
   "metadata": {},
   "source": [
    "## 2.4 Exploring Generated Concepts"
   ]
  },
  {
   "cell_type": "code",
   "execution_count": null,
   "metadata": {
    "vscode": {
     "languageId": "plaintext"
    }
   },
   "outputs": [],
   "source": [
    "def plot_concept_outputs(concepts, input_data):\n",
    "    plt.figure(figsize=(12, 6))\n",
    "    x = torch.linspace(-5, 5, 100)\n",
    "    \n",
    "    for level, level_concepts in enumerate(concepts):\n",
    "        for i, concept in enumerate(level_concepts):\n",
    "            y = concept(x)\n",
    "            plt.plot(x.numpy(), y.detach().numpy(), label=f\"L{level}C{i}\")\n",
    "    \n",
    "    plt.scatter(input_data.numpy(), torch.zeros_like(input_data).numpy(), \n",
    "                color='red', label='Input Data')\n",
    "    plt.legend(bbox_to_anchor=(1.05, 1), loc='upper left')\n",
    "    plt.title(\"Concept Outputs\")\n",
    "    plt.xlabel(\"x\")\n",
    "    plt.ylabel(\"y\")\n",
    "    plt.tight_layout()\n",
    "    plt.show()\n",
    "\n",
    "plot_concept_outputs(concepts, input_data)"
   ]
  },
  {
   "cell_type": "markdown",
   "metadata": {},
   "source": [
    "This notebook demonstrates the concept generation process and helps visualize the hierarchical structure of the generated concepts. We can see how concepts at higher levels are built from combinations of lower-level concepts, potentially leading to more complex mathematical relationships."
   ]
  }
 ],
 "metadata": {
  "language_info": {
   "name": "python"
  }
 },
 "nbformat": 4,
 "nbformat_minor": 2
}
