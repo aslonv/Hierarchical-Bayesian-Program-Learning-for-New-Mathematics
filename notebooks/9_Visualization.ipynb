{
 "cells": [
  {
   "cell_type": "markdown",
   "metadata": {},
   "source": [
    "# 9. Visualization\n",
    "\n",
    "This notebook showcases various visualization techniques for exploring and understanding the mathematical concepts and theorems discovered by our system."
   ]
  },
  {
   "cell_type": "markdown",
   "metadata": {},
   "source": [
    "## 9.1 Importing Required Modules"
   ]
  },
  {
   "cell_type": "code",
   "execution_count": null,
   "metadata": {
    "vscode": {
     "languageId": "plaintext"
    }
   },
   "outputs": [],
   "source": [
    "import sys\n",
    "import os\n",
    "\n",
    "# Add the src directory to the Python path\n",
    "sys.path.append(os.path.abspath(os.path.join(os.getcwd(), '..', 'src')))\n",
    "\n",
    "from probabilistic_model import mathematical_concept_model\n",
    "from symbolic_reasoning import SymbolicReasoning\n",
    "from structure_learning import learn_concept_structure\n",
    "\n",
    "import torch\n",
    "import sympy as sp\n",
    "import matplotlib.pyplot as plt\n",
    "import seaborn as sns\n",
    "import networkx as nx\n",
    "import numpy as np\n",
    "from mpl_toolkits.mplot3d import Axes3D\n",
    "\n",
    "print(\"Imports complete!\")"
   ]
  },
  {
   "cell_type": "markdown",
   "metadata": {},
   "source": [
    "## 9.2 Generating Data for Visualization"
   ]
  },
  {
   "cell_type": "code",
   "execution_count": null,
   "metadata": {
    "vscode": {
     "languageId": "plaintext"
    }
   },
   "outputs": [],
   "source": [
    "# Generate concepts\n",
    "input_data = torch.randn(1000)\n",
    "concepts, observations = mathematical_concept_model(input_data)\n",
    "\n",
    "# Flatten the list of concepts\n",
    "flat_concepts = [c for level in concepts for c in level]\n",
    "\n",
    "print(f\"Generated {len(flat_concepts)} concepts.\")"
   ]
  },
  {
   "cell_type": "markdown",
   "metadata": {},
   "source": [
    "## 9.3 Visualizing Concept Spaces"
   ]
  },
  {
   "cell_type": "code",
   "execution_count": null,
   "metadata": {
    "vscode": {
     "languageId": "plaintext"
    }
   },
   "outputs": [],
   "source": [
    "def visualize_concept_space_2d(concepts, n_points=1000):\n",
    "    x = np.linspace(-5, 5, n_points)\n",
    "    \n",
    "    plt.figure(figsize=(12, 8))\n",
    "    for i, concept in enumerate(concepts[:5]):  # Plot first 5 concepts\n",
    "        y = concept(torch.tensor(x)).detach().numpy()\n",
    "        plt.plot(x, y, label=f'Concept {i}')\n",
    "    \n",
    "    plt.title('2D Visualization of Concept Space')\n",
    "    plt.xlabel('x')\n",
    "    plt.ylabel('y')\n",
    "    plt.legend()\n",
    "    plt.grid(True)\n",
    "    plt.show()\n",
    "\n",
    "visualize_concept_space_2d(flat_concepts)\n",
    "\n",
    "def visualize_concept_space_3d(concepts, n_points=50):\n",
    "    x = np.linspace(-5, 5, n_points)\n",
    "    y = np.linspace(-5, 5, n_points)\n",
    "    X, Y = np.meshgrid(x, y)\n",
    "    \n",
    "    fig = plt.figure(figsize=(15, 5))\n",
    "    \n",
    "    for i, concept in enumerate(concepts[:3]):  # Plot first 3 concepts\n",
    "        ax = fig.add_subplot(1, 3, i+1, projection='3d')\n",
    "        Z = concept(torch.tensor(np.stack([X.flatten(), Y.flatten()])).T).reshape(X.shape).detach().numpy()\n",
    "        surf = ax.plot_surface(X, Y, Z, cmap='viridis')\n",
    "        ax.set_title(f'Concept {i}')\n",
    "        ax.set_xlabel('x')\n",
    "        ax.set_ylabel('y')\n",
    "        ax.set_zlabel('z')\n",
    "        fig.colorbar(surf, ax=ax, shrink=0.5, aspect=5)\n",
    "    \n",
    "    plt.tight_layout()\n",
    "    plt.show()\n",
    "\n",
    "visualize_concept_space_3d(flat_concepts)"
   ]
  },
  {
   "cell_type": "markdown",
   "metadata": {},
   "source": [
    "## 9.4 Visualizing Concept Hierarchy"
   ]
  },
  {
   "cell_type": "code",
   "execution_count": null,
   "metadata": {
    "vscode": {
     "languageId": "plaintext"
    }
   },
   "outputs": [],
   "source": [
    "def visualize_concept_hierarchy(concepts):\n",
    "    G = nx.DiGraph()\n",
    "    \n",
    "    for level, level_concepts in enumerate(concepts):\n",
    "        for i, concept in enumerate(level_concepts):\n",
    "            node_id = f\"L{level}C{i}\"\n",
    "            G.add_node(node_id, label=f\"L{level}C{i}\\n{concept}\")\n",
    "            \n",
    "            if level > 0:\n",
    "                # Connect to all concepts in the previous level\n",
    "                for j in range(len(concepts[level-1])):\n",
    "                    G.add_edge(f\"L{level-1}C{j}\", node_id)\n",
    "    \n",
    "    pos = nx.spring_layout(G)\n",
    "    plt.figure(figsize=(15, 10))\n",
    "    nx.draw(G, pos, with_labels=True, node_color='lightblue', \n",
    "            node_size=3000, font_size=8, arrows=True)\n",
    "    \n",
    "    labels = nx.get_node_attributes(G, 'label')\n",
    "    nx.draw_networkx_labels(G, pos, labels, font_size=6)\n",
    "    \n",
    "    plt.title(\"Concept Hierarchy\")\n",
    "    plt.axis('off')\n",
    "    plt.tight_layout()\n",
    "    plt.show()\n",
    "\n",
    "visualize_concept_hierarchy(concepts)"
   ]
  },
  {
   "cell_type": "markdown",
   "metadata": {},
   "source": [
    "## 9.5 Visualizing Theorem Networks"
   ]
  },
  {
   "cell_type": "code",
   "execution_count": null,
   "metadata": {
    "vscode": {
     "languageId": "plaintext"
    }
   },
   "outputs": [],
   "source": [
    "def generate_theorems(concepts, n_theorems=10):\n",
    "    sr = SymbolicReasoning()\n",
    "    theorems = []\n",
    "    for _ in range(n_theorems):\n",
    "        theorem = sr.generate_theorem(np.random.choice(flat_concepts, size=2, replace=False))\n",
    "        theorems.append(theorem)\n",
    "    return theorems\n",
    "\n",
    "def visualize_theorem_network(concepts, theorems):\n",
    "    G = nx.Graph()\n",
    "    \n",
    "    # Add concepts as nodes\n",
    "    for i, concept in enumerate(concepts):\n",
    "        G.add_node(f\"C{i}\", label=f\"C{i}\\n{concept}\", type='concept')\n",
    "    \n",
    "    # Add theorems as nodes and create edges to related concepts\n",
    "    for i, theorem in enumerate(theorems):\n",
    "        G.add_node(f\"T{i}\", label=f\"T{i}\\n{theorem}\", type='theorem')\n",
    "        for j, concept in enumerate(concepts):\n",
    "            if str(concept) in str(theorem):\n",
    "                G.add_edge(f\"C{j}\", f\"T{i}\")\n",
    "    \n",
    "    pos = nx.spring_layout(G)\n",
    "    plt.figure(figsize=(15, 10))\n",
    "    \n",
    "    # Draw concept nodes\n",
    "    nx.draw_networkx_nodes(G, pos, nodelist=[n for n in G.nodes() if G.nodes[n]['type']=='concept'],\n",
    "                           node_color='lightblue', node_size=3000)\n",
    "    \n",
    "    # Draw theorem nodes\n",
    "    nx.draw_networkx_nodes(G, pos, nodelist=[n for n in G.nodes() if G.nodes[n]['type']=='theorem'],\n",
    "                           node_color='lightgreen', node_size=4000)\n",
    "    \n",
    "    nx.draw_networkx_edges(G, pos)\n",
    "    \n",
    "    labels = nx.get_node_attributes(G, 'label')\n",
    "    nx.draw_networkx_labels(G, pos, labels, font_size=6)\n",
    "    \n",
    "    plt.title(\"Theorem Network\")\n",
    "    plt.axis('off')\n",
    "    plt.tight_layout()\n",
    "    plt.show()\n",
    "\n",
    "theorems = generate_theorems(flat_concepts)\n",
    "visualize_theorem_network(flat_concepts, theorems)"
   ]
  },
  {
   "cell_type": "markdown",
   "metadata": {},
   "source": [
    "## 9.6 Interactive Concept Explorer"
   ]
  },
  {
   "cell_type": "code",
   "execution_count": null,
   "metadata": {
    "vscode": {
     "languageId": "plaintext"
    }
   },
   "outputs": [],
   "source": [
    "from ipywidgets import interact, interactive, fixed\n",
    "import ipywidgets as widgets\n",
    "\n",
    "def plot_concept(concept_index, x_min, x_max):\n",
    "    concept = flat_concepts[concept_index]\n",
    "    x = torch.linspace(x_min, x_max, 1000)\n",
    "    y = concept(x).detach().numpy()\n",
    "    \n",
    "    plt.figure(figsize=(10, 6))\n",
    "    plt.plot(x, y)\n",
    "    plt.title(f'Concept {concept_index}: {concept}')\n",
    "    plt.xlabel('x')\n",
    "    plt.ylabel('y')\n",
    "    plt.grid(True)\n",
    "    plt.show()\n",
    "\n",
    "interact(plot_concept, \n",
    "         concept_index=widgets.IntSlider(min=0, max=len(flat_concepts)-1, step=1, value=0),\n",
    "         x_min=widgets.FloatSlider(min=-10, max=0, step=0.1, value=-5),\n",
    "         x_max=widgets.FloatSlider(min=0, max=10, step=0.1, value=5))"
   ]
  },
  {
   "cell_type": "markdown",
   "metadata": {},
   "source": [
    "## 9.7 Concept Similarity Heatmap"
   ]
  },
  {
   "cell_type": "code",
   "execution_count": null,
   "metadata": {
    "vscode": {
     "languageId": "plaintext"
    }
   },
   "outputs": [],
   "source": [
    "def compute_concept_similarity(concepts, n_points=1000):\n",
    "    x = torch.linspace(-5, 5, n_points)\n",
    "    outputs = torch.stack([concept(x) for concept in concepts])\n",
    "    similarity = torch.corrcoef(outputs)\n",
    "    return similarity.detach().numpy()\n",
    "\n",
    "def plot_concept_similarity(concepts):\n",
    "    similarity = compute_concept_similarity(concepts)\n",
    "    \n",
    "    plt.figure(figsize=(12, 10))\n",
    "    sns.heatmap(similarity, annot=False, cmap='viridis')\n",
    "    plt.title('Concept Similarity Heatmap')\n",
    "    plt.xlabel('Concept Index')\n",
    "    plt.ylabel('Concept Index')\n",
    "    plt.show()\n",
    "\n",
    "plot_concept_similarity(flat_concepts[:50])  # Plot for first 50 concepts for better visibility"
   ]
  },
  {
   "cell_type": "markdown",
   "metadata": {},
   "source": [
    "This notebook demonstrates various visualization techniques for exploring and understanding the mathematical concepts and theorems discovered by the system. I've shown how to:\n",
    "\n",
    "1. Visualize concept spaces in 2D and 3D, allowing us to see how different concepts behave over their input domains.\n",
    "2. Visualize the concept hierarchy, showing how more complex concepts are built from simpler ones.\n",
    "3. Create a theorem network, illustrating the relationships between concepts and the theorems that connect them.\n",
    "4. Provide an interactive concept explorer, allowing for dynamic exploration of individual concepts.\n",
    "5. Generate a concept similarity heatmap, helping to identify groups of related concepts.\n",
    "\n",
    "These visualizations serve several important purposes:\n",
    "- They help us understand the structure and relationships within our discovered mathematical knowledge.\n",
    "- They can reveal patterns or clusters of similar concepts, potentially leading to new insights.\n",
    "- They make our system's outputs more interpretable and accessible to human mathematicians.\n",
    "- They can guide further exploration by highlighting interesting or unusual concepts or relationships.\n",
    "\n",
    "By leveraging these visualization techniques, we can gain deeper insights into the mathematical structures discovered by the system, potentially leading to new mathematical understanding or avenues for further research."
   ]
  }
 ],
 "metadata": {
  "language_info": {
   "name": "python"
  }
 },
 "nbformat": 4,
 "nbformat_minor": 2
}
