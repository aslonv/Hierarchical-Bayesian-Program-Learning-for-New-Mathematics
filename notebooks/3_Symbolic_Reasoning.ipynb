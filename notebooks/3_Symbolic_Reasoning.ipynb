{
 "cells": [
  {
   "cell_type": "markdown",
   "metadata": {},
   "source": [
    "# 3. Symbolic Reasoning\n",
    "\n",
    "This notebook demonstrates how to apply symbolic reasoning to manipulate and simplify expressions, generate theorems, and prove them using our system."
   ]
  },
  {
   "cell_type": "markdown",
   "metadata": {},
   "source": [
    "## 3.1 Importing Required Modules"
   ]
  },
  {
   "cell_type": "code",
   "execution_count": null,
   "metadata": {
    "vscode": {
     "languageId": "plaintext"
    }
   },
   "outputs": [],
   "source": [
    "import sys\n",
    "import os\n",
    "\n",
    "# Add the src directory to the Python path\n",
    "sys.path.append(os.path.abspath(os.path.join(os.getcwd(), '..', 'src')))\n",
    "\n",
    "from symbolic_reasoning import SymbolicReasoning\n",
    "import sympy as sp\n",
    "\n",
    "print(\"Imports complete!\")"
   ]
  },
  {
   "cell_type": "markdown",
   "metadata": {},
   "source": [
    "## 3.2 Simplifying Expressions"
   ]
  },
  {
   "cell_type": "code",
   "execution_count": null,
   "metadata": {
    "vscode": {
     "languageId": "plaintext"
    }
   },
   "outputs": [],
   "source": [
    "sr = SymbolicReasoning()\n",
    "\n",
    "x = sp.Symbol('x')\n",
    "expression = x**2 + 2*x + 1\n",
    "simplified = sr.simplify(expression)\n",
    "\n",
    "print(f\"Original: {expression}\")\n",
    "print(f\"Simplified: {simplified}\")"
   ]
  },
  {
   "cell_type": "markdown",
   "metadata": {},
   "source": [
    "## 3.3 Applying Rules to Expressions"
   ]
  },
  {
   "cell_type": "code",
   "execution_count": null,
   "metadata": {
    "vscode": {
     "languageId": "plaintext"
    }
   },
   "outputs": [],
   "source": [
    "# Define a simple rule: f(x) = x^2\n",
    "rule = lambda x: x**2\n",
    "\n",
    "# Apply the rule to an expression\n",
    "expr = x + 1\n",
    "result = sr.apply_rule(rule, expr)\n",
    "\n",
    "print(f\"Original expression: {expr}\")\n",
    "print(f\"After applying rule f(x) = x^2: {result}\")"
   ]
  },
  {
   "cell_type": "markdown",
   "metadata": {},
   "source": [
    "## 3.4 Generating Theorems"
   ]
  },
  {
   "cell_type": "code",
   "execution_count": null,
   "metadata": {
    "vscode": {
     "languageId": "plaintext"
    }
   },
   "outputs": [],
   "source": [
    "concepts = [x**2, sp.exp(x), sp.log(x)]\n",
    "theorem = sr.generate_theorem(concepts)\n",
    "\n",
    "print(f\"Generated Theorem: {theorem}\")"
   ]
  },
  {
   "cell_type": "markdown",
   "metadata": {},
   "source": [
    "## 3.5 Proving Theorems"
   ]
  },
  {
   "cell_type": "code",
   "execution_count": null,
   "metadata": {
    "vscode": {
     "languageId": "plaintext"
    }
   },
   "outputs": [],
   "source": [
    "# Define some axioms\n",
    "axioms = [sp.Eq(sp.diff(sp.exp(x), x), sp.exp(x))]\n",
    "\n",
    "# Try to prove the generated theorem\n",
    "proof = sr.prove_theorem(theorem, axioms)\n",
    "\n",
    "print(f\"Proof: {proof}\")"
   ]
  },
  {
   "cell_type": "markdown",
   "metadata": {},
   "source": [
    "## 3.6 Discovering Patterns"
   ]
  },
  {
   "cell_type": "code",
   "execution_count": null,
   "metadata": {
    "vscode": {
     "languageId": "plaintext"
    }
   },
   "outputs": [],
   "source": [
    "expressions = [x**2 + 2*x + 1, x**2 + 4*x + 4, x**2 + 6*x + 9]\n",
    "patterns = sr.discover_patterns(expressions)\n",
    "\n",
    "print(\"Discovered Patterns:\")\n",
    "for pattern in patterns:\n",
    "    print(pattern)"
   ]
  },
  {
   "cell_type": "markdown",
   "metadata": {},
   "source": [
    "This notebook showcases the symbolic reasoning capabilities of the system. We've demonstrated how to simplify expressions, apply rules, generate and prove theorems, and discover patterns in mathematical expressions. These capabilities form a crucial part of our mathematical invention system, allowing us to manipulate and analyze mathematical concepts in a systematic way."
   ]
  }
 ],
 "metadata": {
  "language_info": {
   "name": "python"
  }
 },
 "nbformat": 4,
 "nbformat_minor": 2
}
