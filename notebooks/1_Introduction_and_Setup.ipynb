{
 "cells": [
  {
   "cell_type": "markdown",
   "metadata": {},
   "source": [
    "# 1. Introduction and Setup\n",
    "\n",
    "## 1.1 Project Overview\n",
    "\n",
    "This notebook provides an introduction to the Hierarchical Bayesian Program Learning for Mathematical Invention project. This system aims to automate the discovery of mathematical concepts and theorems using probabilistic programming, symbolic reasoning, and formal verification."
   ]
  },
  {
   "cell_type": "markdown",
   "metadata": {},
   "source": [
    "# 1. Introduction and Setup\n",
    "\n",
    "## 1.1 Project Overview\n",
    "\n",
    "This notebook provides an introduction to the Hierarchical Bayesian Program Learning for Mathematical Invention project. This system aims to automate the discovery of mathematical concepts and theorems using probabilistic programming, symbolic reasoning, and formal verification."
   ]
  },
  {
   "cell_type": "markdown",
   "metadata": {},
   "source": [
    "## 1.2 Installation Instructions\n",
    "\n",
    "To set up the project, follow these steps:\n",
    "\n",
    "1. Clone the repository:\n",
    "\n",
    "   git clone https://github.com/aslonv/Hierarchical-Bayesian-Program-Learning-for-New-Mathematics.git\n",
    "\n",
    "   cd Hierarchical-Bayesian-Program-Learning-for-New-Mathematics\n",
    "\n",
    "2. Install the required packages:\n",
    "\n",
    "   pip install -r requirements.txt"
   ]
  },
  {
   "cell_type": "markdown",
   "metadata": {},
   "source": [
    "## 1.3 Basic Setup and Imports"
   ]
  },
  {
   "cell_type": "code",
   "execution_count": null,
   "metadata": {},
   "outputs": [],
   "source": [
    "import sys\n",
    "import os\n",
    "\n",
    "# Add the src directory to the Python path\n",
    "sys.path.append(os.path.abspath(os.path.join(os.getcwd(), '..', 'src')))\n",
    "\n",
    "from probabilistic_model import mathematical_concept_model\n",
    "from symbolic_reasoning import SymbolicReasoning\n",
    "from structure_learning import learn_concept_structure\n",
    "from bayesian_inference import infer_concept_importance\n",
    "from formal_verification import generate_lean_code\n",
    "from utils import rank_concepts\n",
    "\n",
    "import torch\n",
    "import sympy as sp\n",
    "import matplotlib.pyplot as plt\n",
    "import numpy as np\n",
    "\n",
    "print(\"Setup complete!\")"
   ]
  },
  {
   "cell_type": "markdown",
   "metadata": {},
   "source": [
    "## 1.4 Quick Start\n",
    "\n",
    "A simple example of generating a mathematical concept:"
   ]
  },
  {
   "cell_type": "code",
   "execution_count": null,
   "metadata": {},
   "outputs": [],
   "source": [
    "input_data = torch.randn(100)\n",
    "concepts, observations = mathematical_concept_model(input_data)\n",
    "print(f\"Generated {len(concepts)} levels of concepts\")\n",
    "\n",
    "# Display the first concept from each level\n",
    "for i, level_concepts in enumerate(concepts):\n",
    "    print(f\"Level {i}, First Concept: {level_concepts[0]}\")"
   ]
  },
  {
   "cell_type": "markdown",
   "metadata": {},
   "source": [
    "This notebook sets the stage for exploring the capabilities of the mathematical invention system. In the following notebooks, there will be deeper dive into each component of the system."
   ]
  }
 ],
 "metadata": {
  "kernelspec": {
   "display_name": "Python 3",
   "language": "python",
   "name": "python3"
  },
  "language_info": {
   "name": "python",
   "version": "3.12.2"
  }
 },
 "nbformat": 4,
 "nbformat_minor": 2
}
